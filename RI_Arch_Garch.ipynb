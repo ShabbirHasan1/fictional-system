{
 "cells": [
  {
   "cell_type": "markdown",
   "id": "3197bf83",
   "metadata": {},
   "source": [
    "## Подгрузим библиотеки"
   ]
  },
  {
   "cell_type": "code",
   "execution_count": 1,
   "id": "2a7ce56e",
   "metadata": {},
   "outputs": [],
   "source": [
    "import numpy as np\n",
    "import pandas as pd\n",
    "from arch import arch_model\n",
    "import matplotlib.pyplot as plt"
   ]
  },
  {
   "cell_type": "markdown",
   "id": "cbac33d7",
   "metadata": {},
   "source": [
    "## Считаем файл с фьючерсом"
   ]
  },
  {
   "cell_type": "code",
   "execution_count": 2,
   "id": "d24ca42e",
   "metadata": {},
   "outputs": [],
   "source": [
    "data = pd.read_csv('concat_RI.csv')"
   ]
  },
  {
   "cell_type": "code",
   "execution_count": 3,
   "id": "4055045e",
   "metadata": {},
   "outputs": [],
   "source": [
    "data['date'] = pd.to_datetime(data['date'], format = '%Y-%m-%d')"
   ]
  },
  {
   "cell_type": "markdown",
   "id": "14aa60b6",
   "metadata": {},
   "source": [
    "## Считали"
   ]
  },
  {
   "cell_type": "code",
   "execution_count": 4,
   "id": "08db2977",
   "metadata": {
    "scrolled": false
   },
   "outputs": [
    {
     "name": "stdout",
     "output_type": "stream",
     "text": [
      "<class 'pandas.core.frame.DataFrame'>\n",
      "RangeIndex: 4072 entries, 0 to 4071\n",
      "Data columns (total 9 columns):\n",
      " #   Column         Non-Null Count  Dtype         \n",
      "---  ------         --------------  -----         \n",
      " 0   Unnamed: 0     4072 non-null   int64         \n",
      " 1   date           4072 non-null   datetime64[ns]\n",
      " 2   close          4055 non-null   float64       \n",
      " 3   name           4072 non-null   object        \n",
      " 4   return         4071 non-null   float64       \n",
      " 5   ln_r           4071 non-null   float64       \n",
      " 6   volatility_5   4067 non-null   float64       \n",
      " 7   volatility_20  4052 non-null   float64       \n",
      " 8   volatility_60  4005 non-null   float64       \n",
      "dtypes: datetime64[ns](1), float64(6), int64(1), object(1)\n",
      "memory usage: 286.4+ KB\n"
     ]
    }
   ],
   "source": [
    "data.info()"
   ]
  },
  {
   "cell_type": "code",
   "execution_count": 5,
   "id": "877c6eb9",
   "metadata": {
    "scrolled": false
   },
   "outputs": [
    {
     "data": {
      "text/html": [
       "<div>\n",
       "<style scoped>\n",
       "    .dataframe tbody tr th:only-of-type {\n",
       "        vertical-align: middle;\n",
       "    }\n",
       "\n",
       "    .dataframe tbody tr th {\n",
       "        vertical-align: top;\n",
       "    }\n",
       "\n",
       "    .dataframe thead th {\n",
       "        text-align: right;\n",
       "    }\n",
       "</style>\n",
       "<table border=\"1\" class=\"dataframe\">\n",
       "  <thead>\n",
       "    <tr style=\"text-align: right;\">\n",
       "      <th></th>\n",
       "      <th>Unnamed: 0</th>\n",
       "      <th>date</th>\n",
       "      <th>close</th>\n",
       "      <th>name</th>\n",
       "      <th>return</th>\n",
       "      <th>ln_r</th>\n",
       "      <th>volatility_5</th>\n",
       "      <th>volatility_20</th>\n",
       "      <th>volatility_60</th>\n",
       "    </tr>\n",
       "  </thead>\n",
       "  <tbody>\n",
       "    <tr>\n",
       "      <th>0</th>\n",
       "      <td>0</td>\n",
       "      <td>2006-09-15</td>\n",
       "      <td>156180.0</td>\n",
       "      <td>RIH07-ru.csv</td>\n",
       "      <td>NaN</td>\n",
       "      <td>NaN</td>\n",
       "      <td>NaN</td>\n",
       "      <td>NaN</td>\n",
       "      <td>NaN</td>\n",
       "    </tr>\n",
       "    <tr>\n",
       "      <th>1</th>\n",
       "      <td>1</td>\n",
       "      <td>2006-09-18</td>\n",
       "      <td>158760.0</td>\n",
       "      <td>RIH07-ru.csv</td>\n",
       "      <td>1.016519</td>\n",
       "      <td>0.016384</td>\n",
       "      <td>NaN</td>\n",
       "      <td>NaN</td>\n",
       "      <td>NaN</td>\n",
       "    </tr>\n",
       "    <tr>\n",
       "      <th>2</th>\n",
       "      <td>2</td>\n",
       "      <td>2006-09-19</td>\n",
       "      <td>160200.0</td>\n",
       "      <td>RIH07-ru.csv</td>\n",
       "      <td>1.009070</td>\n",
       "      <td>0.009029</td>\n",
       "      <td>NaN</td>\n",
       "      <td>NaN</td>\n",
       "      <td>NaN</td>\n",
       "    </tr>\n",
       "    <tr>\n",
       "      <th>3</th>\n",
       "      <td>3</td>\n",
       "      <td>2006-09-20</td>\n",
       "      <td>NaN</td>\n",
       "      <td>RIH07-ru.csv</td>\n",
       "      <td>1.000000</td>\n",
       "      <td>0.000000</td>\n",
       "      <td>NaN</td>\n",
       "      <td>NaN</td>\n",
       "      <td>NaN</td>\n",
       "    </tr>\n",
       "    <tr>\n",
       "      <th>4</th>\n",
       "      <td>4</td>\n",
       "      <td>2006-09-21</td>\n",
       "      <td>154995.0</td>\n",
       "      <td>RIH07-ru.csv</td>\n",
       "      <td>0.967509</td>\n",
       "      <td>-0.033030</td>\n",
       "      <td>NaN</td>\n",
       "      <td>NaN</td>\n",
       "      <td>NaN</td>\n",
       "    </tr>\n",
       "  </tbody>\n",
       "</table>\n",
       "</div>"
      ],
      "text/plain": [
       "   Unnamed: 0       date     close          name    return      ln_r  \\\n",
       "0           0 2006-09-15  156180.0  RIH07-ru.csv       NaN       NaN   \n",
       "1           1 2006-09-18  158760.0  RIH07-ru.csv  1.016519  0.016384   \n",
       "2           2 2006-09-19  160200.0  RIH07-ru.csv  1.009070  0.009029   \n",
       "3           3 2006-09-20       NaN  RIH07-ru.csv  1.000000  0.000000   \n",
       "4           4 2006-09-21  154995.0  RIH07-ru.csv  0.967509 -0.033030   \n",
       "\n",
       "   volatility_5  volatility_20  volatility_60  \n",
       "0           NaN            NaN            NaN  \n",
       "1           NaN            NaN            NaN  \n",
       "2           NaN            NaN            NaN  \n",
       "3           NaN            NaN            NaN  \n",
       "4           NaN            NaN            NaN  "
      ]
     },
     "execution_count": 5,
     "metadata": {},
     "output_type": "execute_result"
    }
   ],
   "source": [
    "data.head(5)"
   ]
  },
  {
   "cell_type": "code",
   "execution_count": 6,
   "id": "c2b2ead6",
   "metadata": {
    "scrolled": false
   },
   "outputs": [
    {
     "data": {
      "text/html": [
       "<div>\n",
       "<style scoped>\n",
       "    .dataframe tbody tr th:only-of-type {\n",
       "        vertical-align: middle;\n",
       "    }\n",
       "\n",
       "    .dataframe tbody tr th {\n",
       "        vertical-align: top;\n",
       "    }\n",
       "\n",
       "    .dataframe thead th {\n",
       "        text-align: right;\n",
       "    }\n",
       "</style>\n",
       "<table border=\"1\" class=\"dataframe\">\n",
       "  <thead>\n",
       "    <tr style=\"text-align: right;\">\n",
       "      <th></th>\n",
       "      <th>Unnamed: 0</th>\n",
       "      <th>date</th>\n",
       "      <th>close</th>\n",
       "      <th>name</th>\n",
       "      <th>return</th>\n",
       "      <th>ln_r</th>\n",
       "      <th>volatility_5</th>\n",
       "      <th>volatility_20</th>\n",
       "      <th>volatility_60</th>\n",
       "    </tr>\n",
       "  </thead>\n",
       "  <tbody>\n",
       "    <tr>\n",
       "      <th>4067</th>\n",
       "      <td>4067</td>\n",
       "      <td>2022-11-29</td>\n",
       "      <td>112650.0</td>\n",
       "      <td>RIZ22-ru.csv</td>\n",
       "      <td>1.008957</td>\n",
       "      <td>0.008917</td>\n",
       "      <td>13.691348</td>\n",
       "      <td>27.127537</td>\n",
       "      <td>35.577041</td>\n",
       "    </tr>\n",
       "    <tr>\n",
       "      <th>4068</th>\n",
       "      <td>4068</td>\n",
       "      <td>2022-11-30</td>\n",
       "      <td>112140.0</td>\n",
       "      <td>RIZ22-ru.csv</td>\n",
       "      <td>0.995473</td>\n",
       "      <td>-0.004538</td>\n",
       "      <td>13.726187</td>\n",
       "      <td>27.141724</td>\n",
       "      <td>35.473038</td>\n",
       "    </tr>\n",
       "    <tr>\n",
       "      <th>4069</th>\n",
       "      <td>4069</td>\n",
       "      <td>2022-12-01</td>\n",
       "      <td>111930.0</td>\n",
       "      <td>RIZ22-ru.csv</td>\n",
       "      <td>0.998127</td>\n",
       "      <td>-0.001874</td>\n",
       "      <td>13.440082</td>\n",
       "      <td>27.024941</td>\n",
       "      <td>35.337671</td>\n",
       "    </tr>\n",
       "    <tr>\n",
       "      <th>4070</th>\n",
       "      <td>4070</td>\n",
       "      <td>2022-12-02</td>\n",
       "      <td>110750.0</td>\n",
       "      <td>RIZ22-ru.csv</td>\n",
       "      <td>0.989458</td>\n",
       "      <td>-0.010598</td>\n",
       "      <td>14.471873</td>\n",
       "      <td>27.091311</td>\n",
       "      <td>35.215672</td>\n",
       "    </tr>\n",
       "    <tr>\n",
       "      <th>4071</th>\n",
       "      <td>4071</td>\n",
       "      <td>2022-12-05</td>\n",
       "      <td>111750.0</td>\n",
       "      <td>RIZ22-ru.csv</td>\n",
       "      <td>1.009029</td>\n",
       "      <td>0.008989</td>\n",
       "      <td>13.884235</td>\n",
       "      <td>24.312722</td>\n",
       "      <td>35.050102</td>\n",
       "    </tr>\n",
       "  </tbody>\n",
       "</table>\n",
       "</div>"
      ],
      "text/plain": [
       "      Unnamed: 0       date     close          name    return      ln_r  \\\n",
       "4067        4067 2022-11-29  112650.0  RIZ22-ru.csv  1.008957  0.008917   \n",
       "4068        4068 2022-11-30  112140.0  RIZ22-ru.csv  0.995473 -0.004538   \n",
       "4069        4069 2022-12-01  111930.0  RIZ22-ru.csv  0.998127 -0.001874   \n",
       "4070        4070 2022-12-02  110750.0  RIZ22-ru.csv  0.989458 -0.010598   \n",
       "4071        4071 2022-12-05  111750.0  RIZ22-ru.csv  1.009029  0.008989   \n",
       "\n",
       "      volatility_5  volatility_20  volatility_60  \n",
       "4067     13.691348      27.127537      35.577041  \n",
       "4068     13.726187      27.141724      35.473038  \n",
       "4069     13.440082      27.024941      35.337671  \n",
       "4070     14.471873      27.091311      35.215672  \n",
       "4071     13.884235      24.312722      35.050102  "
      ]
     },
     "execution_count": 6,
     "metadata": {},
     "output_type": "execute_result"
    }
   ],
   "source": [
    "data.tail(5)"
   ]
  },
  {
   "cell_type": "code",
   "execution_count": 7,
   "id": "c1e43156",
   "metadata": {},
   "outputs": [
    {
     "name": "stdout",
     "output_type": "stream",
     "text": [
      "Iteration:      1,   Func. Count:      6,   Neg. LLF: 4388982144.669955\n",
      "Iteration:      2,   Func. Count:     18,   Neg. LLF: -10440.245199828616\n",
      "Optimization terminated successfully    (Exit mode 0)\n",
      "            Current function value: -10440.245225687908\n",
      "            Iterations: 6\n",
      "            Function evaluations: 18\n",
      "            Gradient evaluations: 2\n"
     ]
    },
    {
     "name": "stderr",
     "output_type": "stream",
     "text": [
      "/opt/anaconda3/lib/python3.9/site-packages/arch/univariate/base.py:309: DataScaleWarning: y is poorly scaled, which may affect convergence of the optimizer when\n",
      "estimating the model parameters. The scale of y is 0.0006319. Parameter\n",
      "estimation work better when this value is between 1 and 1000. The recommended\n",
      "rescaling is 100 * y.\n",
      "\n",
      "This warning can be disabled by either rescaling y before initializing the\n",
      "model or by setting rescale=False.\n",
      "\n",
      "  warnings.warn(\n"
     ]
    }
   ],
   "source": [
    "am = arch_model(data['return'].dropna())\n",
    "res = am.fit()"
   ]
  },
  {
   "cell_type": "code",
   "execution_count": 8,
   "id": "671ce882",
   "metadata": {},
   "outputs": [
    {
     "name": "stdout",
     "output_type": "stream",
     "text": [
      "Iteration:      1,   Func. Count:      6,   Neg. LLF: 4388982144.669955\n",
      "Iteration:      2,   Func. Count:     18,   Neg. LLF: -10440.245199828616\n",
      "Optimization terminated successfully    (Exit mode 0)\n",
      "            Current function value: -10440.245225687908\n",
      "            Iterations: 6\n",
      "            Function evaluations: 18\n",
      "            Gradient evaluations: 2\n"
     ]
    },
    {
     "name": "stderr",
     "output_type": "stream",
     "text": [
      "/opt/anaconda3/lib/python3.9/site-packages/arch/univariate/base.py:309: DataScaleWarning: y is poorly scaled, which may affect convergence of the optimizer when\n",
      "estimating the model parameters. The scale of y is 0.0006319. Parameter\n",
      "estimation work better when this value is between 1 and 1000. The recommended\n",
      "rescaling is 100 * y.\n",
      "\n",
      "This warning can be disabled by either rescaling y before initializing the\n",
      "model or by setting rescale=False.\n",
      "\n",
      "  warnings.warn(\n"
     ]
    }
   ],
   "source": [
    "# Specify GARCH model assumptions\n",
    "ar_am = arch_model(data['return'].dropna(), p = 1, q = 1, mean = 'AR', vol = 'GARCH')\n",
    "# Fit the model\n",
    "ar_am_result = ar_am.fit()"
   ]
  },
  {
   "cell_type": "code",
   "execution_count": 9,
   "id": "232f4e17",
   "metadata": {
    "scrolled": false
   },
   "outputs": [
    {
     "name": "stdout",
     "output_type": "stream",
     "text": [
      "Iteration:      1,   Func. Count:      7,   Neg. LLF: 1159731770.1412833\n",
      "Iteration:      2,   Func. Count:     21,   Neg. LLF: 1357420363041.5444\n",
      "Iteration:      3,   Func. Count:     37,   Neg. LLF: 4.990004695231565e+26\n",
      "Iteration:      4,   Func. Count:     53,   Neg. LLF: 9070794262364.764\n",
      "Iteration:      5,   Func. Count:     68,   Neg. LLF: -10480.454009542267\n",
      "Optimization terminated successfully    (Exit mode 0)\n",
      "            Current function value: -10480.454032870599\n",
      "            Iterations: 9\n",
      "            Function evaluations: 68\n",
      "            Gradient evaluations: 5\n"
     ]
    },
    {
     "name": "stderr",
     "output_type": "stream",
     "text": [
      "/opt/anaconda3/lib/python3.9/site-packages/arch/univariate/base.py:309: DataScaleWarning: y is poorly scaled, which may affect convergence of the optimizer when\n",
      "estimating the model parameters. The scale of y is 0.0006319. Parameter\n",
      "estimation work better when this value is between 1 and 1000. The recommended\n",
      "rescaling is 100 * y.\n",
      "\n",
      "This warning can be disabled by either rescaling y before initializing the\n",
      "model or by setting rescale=False.\n",
      "\n",
      "  warnings.warn(\n"
     ]
    }
   ],
   "source": [
    "# Specify GARCH model assumptions / o = 1 for assimetric volatility shock (GJR-GARCH)\n",
    "ar_am1 = arch_model(data['return'].dropna(), p = 1, q = 1, o = 1, mean = 'constant', vol = 'GARCH')\n",
    "# Fit the model\n",
    "ar_am1_result = ar_am1.fit()"
   ]
  },
  {
   "cell_type": "code",
   "execution_count": 10,
   "id": "f1f1f02a",
   "metadata": {},
   "outputs": [
    {
     "name": "stdout",
     "output_type": "stream",
     "text": [
      "Iteration:      1,   Func. Count:      7,   Neg. LLF: 2.617019145583435e+16\n",
      "Iteration:      2,   Func. Count:     21,   Neg. LLF: 99212244.31898855\n"
     ]
    },
    {
     "name": "stderr",
     "output_type": "stream",
     "text": [
      "/opt/anaconda3/lib/python3.9/site-packages/arch/univariate/base.py:309: DataScaleWarning: y is poorly scaled, which may affect convergence of the optimizer when\n",
      "estimating the model parameters. The scale of y is 0.0006319. Parameter\n",
      "estimation work better when this value is between 1 and 1000. The recommended\n",
      "rescaling is 100 * y.\n",
      "\n",
      "This warning can be disabled by either rescaling y before initializing the\n",
      "model or by setting rescale=False.\n",
      "\n",
      "  warnings.warn(\n"
     ]
    },
    {
     "name": "stdout",
     "output_type": "stream",
     "text": [
      "Iteration:      3,   Func. Count:     32,   Neg. LLF: 630068726433.63\n",
      "Iteration:      4,   Func. Count:     42,   Neg. LLF: 183362567831.80435\n",
      "Iteration:      5,   Func. Count:     52,   Neg. LLF: -10451.879340177078\n",
      "Iteration:      6,   Func. Count:     59,   Neg. LLF: 8353000684.041319\n",
      "Iteration:      7,   Func. Count:     69,   Neg. LLF: -10497.8664874432\n",
      "Iteration:      8,   Func. Count:     75,   Neg. LLF: -10498.153197599966\n",
      "Iteration:      9,   Func. Count:     81,   Neg. LLF: -10498.168788524865\n",
      "Iteration:     10,   Func. Count:     87,   Neg. LLF: -10498.16903567874\n",
      "Iteration:     11,   Func. Count:     93,   Neg. LLF: -10498.169055440718\n",
      "Iteration:     12,   Func. Count:     98,   Neg. LLF: -10498.169055395134\n",
      "Optimization terminated successfully    (Exit mode 0)\n",
      "            Current function value: -10498.169055440718\n",
      "            Iterations: 12\n",
      "            Function evaluations: 98\n",
      "            Gradient evaluations: 12\n"
     ]
    }
   ],
   "source": [
    "# Specify EGARCH model assumptions\n",
    "ar_egm = arch_model(data['return'].dropna(), p = 1, q = 1, o = 1, mean = 'constant', vol = 'EGARCH')\n",
    "# Fit the model\n",
    "ar_egm_result = ar_egm.fit()"
   ]
  },
  {
   "cell_type": "code",
   "execution_count": 11,
   "id": "0ce4bee3",
   "metadata": {},
   "outputs": [
    {
     "name": "stderr",
     "output_type": "stream",
     "text": [
      "/opt/anaconda3/lib/python3.9/site-packages/arch/univariate/base.py:309: DataScaleWarning: y is poorly scaled, which may affect convergence of the optimizer when\n",
      "estimating the model parameters. The scale of y is 0.0006319. Parameter\n",
      "estimation work better when this value is between 1 and 1000. The recommended\n",
      "rescaling is 100 * y.\n",
      "\n",
      "This warning can be disabled by either rescaling y before initializing the\n",
      "model or by setting rescale=False.\n",
      "\n",
      "  warnings.warn(\n"
     ]
    },
    {
     "name": "stdout",
     "output_type": "stream",
     "text": [
      "Iteration:      1,   Func. Count:      7,   Neg. LLF: 105446.00139252759\n",
      "Iteration:      2,   Func. Count:     23,   Neg. LLF: 804716.9218803856\n",
      "Iteration:      3,   Func. Count:     33,   Neg. LLF: 13941.997898341417\n",
      "Iteration:      4,   Func. Count:     43,   Neg. LLF: 81638.75630668066\n",
      "Iteration:      5,   Func. Count:     59,   Neg. LLF: 673095.5787518327\n",
      "Iteration:      6,   Func. Count:     75,   Neg. LLF: 18309.19470447585\n",
      "Iteration:      7,   Func. Count:     81,   Neg. LLF: 1781670.84133676\n",
      "Iteration:      8,   Func. Count:     88,   Neg. LLF: 17291.37406776133\n",
      "Iteration:      9,   Func. Count:     94,   Neg. LLF: 14752.39057487227\n",
      "Iteration:     10,   Func. Count:    100,   Neg. LLF: 13962.06722468228\n",
      "Iteration:     11,   Func. Count:    107,   Neg. LLF: 15139.466655781283\n",
      "Iteration:     12,   Func. Count:    117,   Neg. LLF: 39700.270803246865\n",
      "Iteration:     13,   Func. Count:    129,   Neg. LLF: 1142232.4078832965\n",
      "Iteration:     14,   Func. Count:    142,   Neg. LLF: 5780140.49261967\n",
      "Iteration:     15,   Func. Count:    149,   Neg. LLF: 2966992.5594282486\n",
      "Iteration:     16,   Func. Count:    164,   Neg. LLF: 10273755.183065329\n",
      "Iteration:     17,   Func. Count:    172,   Neg. LLF: 5906.4487213837765\n",
      "Iteration:     18,   Func. Count:    180,   Neg. LLF: -6562.499095830757\n",
      "Optimization terminated successfully    (Exit mode 0)\n",
      "            Current function value: -6562.499095831946\n",
      "            Iterations: 22\n",
      "            Function evaluations: 180\n",
      "            Gradient evaluations: 18\n"
     ]
    }
   ],
   "source": [
    "# Specify GARCH model assumptions\n",
    "t_gm = arch_model(data['return'].dropna(), p = 1, q = 1, mean = 'constant', vol = 'GARCH', dist = 't')\n",
    "# Fit the model\n",
    "t_result = t_gm.fit()"
   ]
  },
  {
   "cell_type": "code",
   "execution_count": 12,
   "id": "1bb0582d",
   "metadata": {},
   "outputs": [
    {
     "name": "stdout",
     "output_type": "stream",
     "text": [
      "Iteration:      1,   Func. Count:      8,   Neg. LLF: 102506.73986189446\n",
      "Iteration:      2,   Func. Count:     25,   Neg. LLF: 539621.555242572\n",
      "Iteration:      3,   Func. Count:     36,   Neg. LLF: 14235.602250913762\n",
      "Iteration:      4,   Func. Count:     46,   Neg. LLF: 26451.398861305865\n",
      "Iteration:      5,   Func. Count:     54,   Neg. LLF: 827010.0834124226\n",
      "Iteration:      6,   Func. Count:     71,   Neg. LLF: 39843.944533556045\n",
      "Iteration:      7,   Func. Count:     79,   Neg. LLF: 39681.33131407673\n",
      "Iteration:      8,   Func. Count:     87,   Neg. LLF: 31968.5426543378\n",
      "Iteration:      9,   Func. Count:     94,   Neg. LLF: 30497.743316260014\n",
      "Iteration:     10,   Func. Count:    102,   Neg. LLF: 30021.539913642817\n",
      "Iteration:     11,   Func. Count:    109,   Neg. LLF: 213132.26061194978\n",
      "Iteration:     12,   Func. Count:    117,   Neg. LLF: 471879.7287807964\n",
      "Iteration:     13,   Func. Count:    126,   Neg. LLF: 145759.8863632597\n",
      "Iteration:     14,   Func. Count:    135,   Neg. LLF: 128238.183519282\n",
      "Iteration:     15,   Func. Count:    146,   Neg. LLF: 4827304.875893876\n"
     ]
    },
    {
     "name": "stderr",
     "output_type": "stream",
     "text": [
      "/opt/anaconda3/lib/python3.9/site-packages/arch/univariate/base.py:309: DataScaleWarning: y is poorly scaled, which may affect convergence of the optimizer when\n",
      "estimating the model parameters. The scale of y is 0.0006319. Parameter\n",
      "estimation work better when this value is between 1 and 1000. The recommended\n",
      "rescaling is 100 * y.\n",
      "\n",
      "This warning can be disabled by either rescaling y before initializing the\n",
      "model or by setting rescale=False.\n",
      "\n",
      "  warnings.warn(\n"
     ]
    },
    {
     "name": "stdout",
     "output_type": "stream",
     "text": [
      "Iteration:     16,   Func. Count:    154,   Neg. LLF: 584194.1538339161\n",
      "Iteration:     17,   Func. Count:    166,   Neg. LLF: 3560.057749498183\n",
      "Iteration:     18,   Func. Count:    175,   Neg. LLF: 1838967.8783679083\n",
      "Iteration:     19,   Func. Count:    183,   Neg. LLF: 327536.5276279628\n",
      "Iteration:     20,   Func. Count:    191,   Neg. LLF: 307224.94653863343\n",
      "Iteration:     21,   Func. Count:    208,   Neg. LLF: 131536.3433466221\n",
      "Iteration:     22,   Func. Count:    225,   Neg. LLF: 19185.070413891182\n",
      "Iteration:     23,   Func. Count:    234,   Neg. LLF: 18038433.46264641\n",
      "Iteration:     24,   Func. Count:    242,   Neg. LLF: 16474.18287887933\n",
      "Iteration:     25,   Func. Count:    249,   Neg. LLF: 44471.59522428499\n",
      "Iteration:     26,   Func. Count:    257,   Neg. LLF: 1100.9121214373545\n",
      "Positive directional derivative for linesearch    (Exit mode 8)\n",
      "            Current function value: 1100.9121087326544\n",
      "            Iterations: 30\n",
      "            Function evaluations: 257\n",
      "            Gradient evaluations: 26\n"
     ]
    },
    {
     "name": "stderr",
     "output_type": "stream",
     "text": [
      "/opt/anaconda3/lib/python3.9/site-packages/arch/univariate/base.py:753: ConvergenceWarning: The optimizer returned code 8. The message is:\n",
      "Positive directional derivative for linesearch\n",
      "See scipy.optimize.fmin_slsqp for code meaning.\n",
      "\n",
      "  warnings.warn(\n"
     ]
    }
   ],
   "source": [
    "# Specify GARCH model assumptions\n",
    "skewt_gm = arch_model(data['return'].dropna(), p = 1, q = 1, mean = 'constant', vol = 'GARCH', dist = 'skewt')\n",
    "# Fit the model\n",
    "skewt_result = skewt_gm.fit()"
   ]
  },
  {
   "cell_type": "code",
   "execution_count": 13,
   "id": "b745d90b",
   "metadata": {},
   "outputs": [
    {
     "name": "stdout",
     "output_type": "stream",
     "text": [
      "mu          1.000912\n",
      "omega       0.000013\n",
      "alpha[1]    0.100000\n",
      "beta[1]     0.880000\n",
      "Name: params, dtype: float64\n"
     ]
    }
   ],
   "source": [
    "print(res.params)"
   ]
  },
  {
   "cell_type": "code",
   "execution_count": 14,
   "id": "30fd83cc",
   "metadata": {},
   "outputs": [
    {
     "name": "stdout",
     "output_type": "stream",
     "text": [
      "mu            1.000970\n",
      "omega         0.005342\n",
      "alpha[1]      0.882926\n",
      "beta[1]       0.010775\n",
      "nu          358.896712\n",
      "Name: params, dtype: float64\n"
     ]
    }
   ],
   "source": [
    "print(t_result.params)"
   ]
  },
  {
   "cell_type": "code",
   "execution_count": 15,
   "id": "3bdd887c",
   "metadata": {},
   "outputs": [
    {
     "name": "stdout",
     "output_type": "stream",
     "text": [
      "mu            0.457122\n",
      "omega         0.001042\n",
      "alpha[1]      1.000000\n",
      "beta[1]       0.000010\n",
      "eta         115.662537\n",
      "lambda       -0.712337\n",
      "Name: params, dtype: float64\n"
     ]
    }
   ],
   "source": [
    "print(skewt_result.params)"
   ]
  },
  {
   "cell_type": "code",
   "execution_count": 16,
   "id": "b259122e",
   "metadata": {
    "scrolled": false
   },
   "outputs": [
    {
     "name": "stdout",
     "output_type": "stream",
     "text": [
      "                     Constant Mean - GARCH Model Results                      \n",
      "==============================================================================\n",
      "Dep. Variable:                 return   R-squared:                       0.000\n",
      "Mean Model:             Constant Mean   Adj. R-squared:                  0.000\n",
      "Vol Model:                      GARCH   Log-Likelihood:                10440.2\n",
      "Distribution:                  Normal   AIC:                          -20872.5\n",
      "Method:            Maximum Likelihood   BIC:                          -20847.2\n",
      "                                        No. Observations:                 4071\n",
      "Date:                Tue, Dec 06 2022   Df Residuals:                     4070\n",
      "Time:                        13:22:47   Df Model:                            1\n",
      "                               Mean Model                               \n",
      "========================================================================\n",
      "                 coef    std err          t      P>|t|  95.0% Conf. Int.\n",
      "------------------------------------------------------------------------\n",
      "mu             1.0009  2.278e-04   4394.241      0.000 [  1.000,  1.001]\n",
      "                              Volatility Model                              \n",
      "============================================================================\n",
      "                 coef    std err          t      P>|t|      95.0% Conf. Int.\n",
      "----------------------------------------------------------------------------\n",
      "omega      1.2638e-05  3.041e-12  4.155e+06      0.000 [1.264e-05,1.264e-05]\n",
      "alpha[1]       0.1000  1.538e-02      6.503  7.896e-11   [6.986e-02,  0.130]\n",
      "beta[1]        0.8800  9.698e-03     90.738      0.000     [  0.861,  0.899]\n",
      "============================================================================\n",
      "\n",
      "Covariance estimator: robust\n"
     ]
    }
   ],
   "source": [
    "print(res.summary())"
   ]
  },
  {
   "cell_type": "code",
   "execution_count": 17,
   "id": "772a4d54",
   "metadata": {},
   "outputs": [
    {
     "name": "stdout",
     "output_type": "stream",
     "text": [
      "                        Constant Mean - GARCH Model Results                         \n",
      "====================================================================================\n",
      "Dep. Variable:                       return   R-squared:                       0.000\n",
      "Mean Model:                   Constant Mean   Adj. R-squared:                  0.000\n",
      "Vol Model:                            GARCH   Log-Likelihood:                6562.50\n",
      "Distribution:      Standardized Student's t   AIC:                          -13115.0\n",
      "Method:                  Maximum Likelihood   BIC:                          -13083.4\n",
      "                                              No. Observations:                 4071\n",
      "Date:                      Tue, Dec 06 2022   Df Residuals:                     4070\n",
      "Time:                              13:22:47   Df Model:                            1\n",
      "                               Mean Model                               \n",
      "========================================================================\n",
      "                 coef    std err          t      P>|t|  95.0% Conf. Int.\n",
      "------------------------------------------------------------------------\n",
      "mu             1.0010  2.311e-04   4330.642      0.000 [  1.001,  1.001]\n",
      "                               Volatility Model                              \n",
      "=============================================================================\n",
      "                 coef    std err          t      P>|t|       95.0% Conf. Int.\n",
      "-----------------------------------------------------------------------------\n",
      "omega      5.3419e-03  1.015e-04     52.631      0.000  [5.143e-03,5.541e-03]\n",
      "alpha[1]       0.8829      0.301      2.935  3.340e-03      [  0.293,  1.473]\n",
      "beta[1]        0.0108  1.837e-02      0.587      0.557 [-2.522e-02,4.677e-02]\n",
      "                                Distribution                                \n",
      "============================================================================\n",
      "                 coef    std err          t      P>|t|      95.0% Conf. Int.\n",
      "----------------------------------------------------------------------------\n",
      "nu           358.8967     12.460     28.805 1.877e-182 [3.345e+02,3.833e+02]\n",
      "============================================================================\n",
      "\n",
      "Covariance estimator: robust\n"
     ]
    }
   ],
   "source": [
    "print(t_result.summary())"
   ]
  },
  {
   "cell_type": "code",
   "execution_count": 18,
   "id": "f2a93792",
   "metadata": {},
   "outputs": [
    {
     "name": "stdout",
     "output_type": "stream",
     "text": [
      "                           Constant Mean - GARCH Model Results                           \n",
      "=========================================================================================\n",
      "Dep. Variable:                            return   R-squared:                       0.000\n",
      "Mean Model:                        Constant Mean   Adj. R-squared:                  0.000\n",
      "Vol Model:                                 GARCH   Log-Likelihood:               -1100.91\n",
      "Distribution:      Standardized Skew Student's t   AIC:                           2213.82\n",
      "Method:                       Maximum Likelihood   BIC:                           2251.69\n",
      "                                                   No. Observations:                 4071\n",
      "Date:                           Tue, Dec 06 2022   Df Residuals:                     4070\n",
      "Time:                                   13:22:47   Df Model:                            1\n",
      "                               Mean Model                               \n",
      "========================================================================\n",
      "                 coef    std err          t      P>|t|  95.0% Conf. Int.\n",
      "------------------------------------------------------------------------\n",
      "mu             0.4571  3.808e-02     12.005  3.360e-33 [  0.382,  0.532]\n",
      "                               Volatility Model                              \n",
      "=============================================================================\n",
      "                 coef    std err          t      P>|t|       95.0% Conf. Int.\n",
      "-----------------------------------------------------------------------------\n",
      "omega      1.0424e-03  2.128e-03      0.490      0.624 [-3.129e-03,5.213e-03]\n",
      "alpha[1]       1.0000      0.227      4.414  1.014e-05      [  0.556,  1.444]\n",
      "beta[1]    1.0298e-05      0.107  9.591e-05      1.000      [ -0.210,  0.210]\n",
      "                               Distribution                               \n",
      "==========================================================================\n",
      "                 coef    std err          t      P>|t|    95.0% Conf. Int.\n",
      "--------------------------------------------------------------------------\n",
      "eta          115.6625     42.993      2.690  7.140e-03 [ 31.398,1.999e+02]\n",
      "lambda        -0.7123  4.369e-02    -16.304  9.202e-60   [ -0.798, -0.627]\n",
      "==========================================================================\n",
      "\n",
      "Covariance estimator: robust\n",
      "WARNING: The optimizer did not indicate successful convergence. The message was Positive directional derivative for linesearch.\n",
      "See convergence_flag.\n",
      "\n"
     ]
    }
   ],
   "source": [
    "print(skewt_result.summary())"
   ]
  },
  {
   "cell_type": "code",
   "execution_count": 19,
   "id": "328935ee",
   "metadata": {
    "scrolled": false
   },
   "outputs": [
    {
     "data": {
      "image/png": "[encoded data removed]",
      "text/plain": [
       "<Figure size 432x288 with 2 Axes>"
      ]
     },
     "execution_count": 19,
     "metadata": {},
     "output_type": "execute_result"
    },
    {
     "data": {
      "image/png": "[encoded data removed]",
      "text/plain": [
       "<Figure size 432x288 with 2 Axes>"
      ]
     },
     "metadata": {
      "needs_background": "light"
     },
     "output_type": "display_data"
    }
   ],
   "source": [
    "res.plot()"
   ]
  },
  {
   "cell_type": "code",
   "execution_count": 20,
   "id": "de8e52cb",
   "metadata": {
    "scrolled": false
   },
   "outputs": [
    {
     "data": {
      "image/png": "[encoded data removed]",
      "text/plain": [
       "<Figure size 432x288 with 2 Axes>"
      ]
     },
     "execution_count": 20,
     "metadata": {},
     "output_type": "execute_result"
    },
    {
     "data": {
      "image/png": "[encoded data removed]",
      "text/plain": [
       "<Figure size 432x288 with 2 Axes>"
      ]
     },
     "metadata": {
      "needs_background": "light"
     },
     "output_type": "display_data"
    }
   ],
   "source": [
    "t_result.plot()"
   ]
  },
  {
   "cell_type": "code",
   "execution_count": 21,
   "id": "d720e9bd",
   "metadata": {},
   "outputs": [
    {
     "data": {
      "image/png": "[encoded data removed]",
      "text/plain": [
       "<Figure size 432x288 with 2 Axes>"
      ]
     },
     "execution_count": 21,
     "metadata": {},
     "output_type": "execute_result"
    },
    {
     "data": {
      "image/png": "[encoded data removed]",
      "text/plain": [
       "<Figure size 432x288 with 2 Axes>"
      ]
     },
     "metadata": {
      "needs_background": "light"
     },
     "output_type": "display_data"
    }
   ],
   "source": [
    "skewt_result.plot()"
   ]
  },
  {
   "cell_type": "code",
   "execution_count": 22,
   "id": "d4d9e849",
   "metadata": {},
   "outputs": [],
   "source": [
    "forecasts = res.forecast(reindex=False)"
   ]
  },
  {
   "cell_type": "code",
   "execution_count": 23,
   "id": "34c4c345",
   "metadata": {},
   "outputs": [
    {
     "name": "stdout",
     "output_type": "stream",
     "text": [
      "           h.1\n",
      "4071  1.000912\n",
      "           h.1\n",
      "4071  0.000227\n",
      "           h.1\n",
      "4071  0.000227\n"
     ]
    }
   ],
   "source": [
    "print(forecasts.mean.iloc[-3:])\n",
    "print(forecasts.residual_variance.iloc[-3:])\n",
    "print(forecasts.variance.iloc[-3:])"
   ]
  },
  {
   "cell_type": "code",
   "execution_count": 24,
   "id": "926504e8",
   "metadata": {},
   "outputs": [
    {
     "name": "stdout",
     "output_type": "stream",
     "text": [
      "41.278759671288576\n"
     ]
    }
   ],
   "source": [
    "print(2.56*np.sqrt(260))"
   ]
  },
  {
   "cell_type": "code",
   "execution_count": 25,
   "id": "af6d75f4",
   "metadata": {
    "scrolled": false
   },
   "outputs": [
    {
     "name": "stdout",
     "output_type": "stream",
     "text": [
      "Help on function arch_model in module arch.univariate.mean:\n",
      "\n",
      "arch_model(y: 'Optional[ArrayLike]', x: 'Optional[ArrayLike]' = None, mean: \"Literal['Constant', 'Zero', 'LS', 'AR', 'ARX', 'HAR', 'HARX', 'constant', 'zero']\" = 'Constant', lags: 'Union[None, int, List[int], Int32Array, Int64Array]' = 0, vol: \"Literal['GARCH', 'ARCH', 'EGARCH', 'FIGARCH', 'APARCH', 'HARCH', 'FIGARCH']\" = 'GARCH', p: 'Union[int, List[int]]' = 1, o: 'int' = 0, q: 'int' = 1, power: 'float' = 2.0, dist: \"Literal['normal', 'gaussian', 't', 'studentst', 'skewstudent', 'skewt', 'ged', 'generalized error']\" = 'normal', hold_back: 'Optional[int]' = None, rescale: 'Optional[bool]' = None) -> 'HARX'\n",
      "    Initialization of common ARCH model specifications\n",
      "    \n",
      "    Parameters\n",
      "    ----------\n",
      "    y : {ndarray, Series, None}\n",
      "        The dependent variable\n",
      "    x : {np.array, DataFrame}, optional\n",
      "        Exogenous regressors.  Ignored if model does not permit exogenous\n",
      "        regressors.\n",
      "    mean : str, optional\n",
      "        Name of the mean model.  Currently supported options are: 'Constant',\n",
      "        'Zero', 'LS', 'AR', 'ARX', 'HAR' and  'HARX'\n",
      "    lags : int or list (int), optional\n",
      "        Either a scalar integer value indicating lag length or a list of\n",
      "        integers specifying lag locations.\n",
      "    vol : str, optional\n",
      "        Name of the volatility model.  Currently supported options are:\n",
      "        'GARCH' (default), 'ARCH', 'EGARCH', 'FIGARCH', 'APARCH' and 'HARCH'\n",
      "    p : int, optional\n",
      "        Lag order of the symmetric innovation\n",
      "    o : int, optional\n",
      "        Lag order of the asymmetric innovation\n",
      "    q : int, optional\n",
      "        Lag order of lagged volatility or equivalent\n",
      "    power : float, optional\n",
      "        Power to use with GARCH and related models\n",
      "    dist : int, optional\n",
      "        Name of the error distribution.  Currently supported options are:\n",
      "    \n",
      "            * Normal: 'normal', 'gaussian' (default)\n",
      "            * Students's t: 't', 'studentst'\n",
      "            * Skewed Student's t: 'skewstudent', 'skewt'\n",
      "            * Generalized Error Distribution: 'ged', 'generalized error\"\n",
      "    \n",
      "    hold_back : int\n",
      "        Number of observations at the start of the sample to exclude when\n",
      "        estimating model parameters.  Used when comparing models with different\n",
      "        lag lengths to estimate on the common sample.\n",
      "    rescale : bool\n",
      "        Flag indicating whether to automatically rescale data if the scale\n",
      "        of the data is likely to produce convergence issues when estimating\n",
      "        model parameters. If False, the model is estimated on the data without\n",
      "        transformation.  If True, than y is rescaled and the new scale is\n",
      "        reported in the estimation results.\n",
      "    \n",
      "    Returns\n",
      "    -------\n",
      "    model : ARCHModel\n",
      "        Configured ARCH model\n",
      "    \n",
      "    Examples\n",
      "    --------\n",
      "    >>> import datetime as dt\n",
      "    >>> import pandas_datareader.data as web\n",
      "    >>> djia = web.get_data_fred('DJIA')\n",
      "    >>> returns = 100 * djia['DJIA'].pct_change().dropna()\n",
      "    \n",
      "    A basic GARCH(1,1) with a constant mean can be constructed using only\n",
      "    the return data\n",
      "    \n",
      "    >>> from arch.univariate import arch_model\n",
      "    >>> am = arch_model(returns)\n",
      "    \n",
      "    Alternative mean and volatility processes can be directly specified\n",
      "    \n",
      "    >>> am = arch_model(returns, mean='AR', lags=2, vol='harch', p=[1, 5, 22])\n",
      "    \n",
      "    This example demonstrates the construction of a zero mean process\n",
      "    with a TARCH volatility process and Student t error distribution\n",
      "    \n",
      "    >>> am = arch_model(returns, mean='zero', p=1, o=1, q=1,\n",
      "    ...                 power=1.0, dist='StudentsT')\n",
      "    \n",
      "    Notes\n",
      "    -----\n",
      "    Input that are not relevant for a particular specification, such as `lags`\n",
      "    when `mean='zero'`, are silently ignored.\n",
      "\n"
     ]
    }
   ],
   "source": [
    "help(arch_model)"
   ]
  },
  {
   "cell_type": "code",
   "execution_count": 26,
   "id": "3a8a063b",
   "metadata": {
    "scrolled": false
   },
   "outputs": [
    {
     "data": {
      "image/png": "[encoded data removed]",
      "text/plain": [
       "<Figure size 432x288 with 1 Axes>"
      ]
     },
     "metadata": {
      "needs_background": "light"
     },
     "output_type": "display_data"
    }
   ],
   "source": [
    "# Obtain model estimated residuals and volatility\n",
    "gm_resid = res.resid\n",
    "gm_std = res.conditional_volatility\n",
    "\n",
    "# Calculate the standardized residuals\n",
    "gm_std_resid = gm_resid / gm_std\n",
    "\n",
    "# Plot the histogram of the standardized residuals\n",
    "plt.hist(gm_std_resid, bins = 50, \n",
    "         facecolor = 'orange', label = 'Standardized residuals')\n",
    "plt.legend(loc = 'upper left')\n",
    "plt.show()"
   ]
  },
  {
   "cell_type": "code",
   "execution_count": 27,
   "id": "0f0c4ac9",
   "metadata": {},
   "outputs": [
    {
     "data": {
      "image/png": "[encoded data removed]",
      "text/plain": [
       "<Figure size 432x288 with 1 Axes>"
      ]
     },
     "metadata": {
      "needs_background": "light"
     },
     "output_type": "display_data"
    }
   ],
   "source": [
    "gm_resid = t_result.resid\n",
    "gm_std = t_result.conditional_volatility\n",
    "\n",
    "# Calculate the standardized residuals\n",
    "gm_std_resid = gm_resid / gm_std\n",
    "\n",
    "# Plot the histogram of the standardized residuals\n",
    "plt.hist(gm_std_resid, bins = 50, \n",
    "         facecolor = 'orange', label = 'Standardized residuals')\n",
    "plt.legend(loc = 'upper left')\n",
    "plt.show()"
   ]
  },
  {
   "cell_type": "code",
   "execution_count": 28,
   "id": "d8636638",
   "metadata": {},
   "outputs": [
    {
     "data": {
      "image/png": "[encoded data removed]",
      "text/plain": [
       "<Figure size 432x288 with 1 Axes>"
      ]
     },
     "metadata": {
      "needs_background": "light"
     },
     "output_type": "display_data"
    }
   ],
   "source": [
    "gm_resid = skewt_result.resid\n",
    "gm_std = skewt_result.conditional_volatility\n",
    "\n",
    "# Calculate the standardized residuals\n",
    "gm_std_resid = gm_resid / gm_std\n",
    "\n",
    "# Plot the histogram of the standardized residuals\n",
    "plt.hist(gm_std_resid, bins = 50, \n",
    "         facecolor = 'orange', label = 'Standardized residuals')\n",
    "plt.legend(loc = 'upper left')\n",
    "plt.show()"
   ]
  },
  {
   "cell_type": "code",
   "execution_count": 29,
   "id": "2f25030c",
   "metadata": {},
   "outputs": [
    {
     "data": {
      "image/png": "[encoded data removed]",
      "text/plain": [
       "<Figure size 432x288 with 1 Axes>"
      ]
     },
     "metadata": {
      "needs_background": "light"
     },
     "output_type": "display_data"
    }
   ],
   "source": [
    "# Get model estimated volatility\n",
    "t_vol = res.conditional_volatility\n",
    "\n",
    "# Plot model fitting results\n",
    "plt.plot(t_vol, color = 'gold', label = 'Skewed-t Volatility')\n",
    "plt.plot(data['return'].dropna(), color = 'grey', \n",
    "         label = 'Daily Returns', alpha = 0.4)\n",
    "plt.legend(loc = 'upper right')\n",
    "plt.show()"
   ]
  },
  {
   "cell_type": "code",
   "execution_count": 30,
   "id": "1fa39805",
   "metadata": {},
   "outputs": [
    {
     "data": {
      "image/png": "[encoded data removed]",
      "text/plain": [
       "<Figure size 432x288 with 1 Axes>"
      ]
     },
     "metadata": {
      "needs_background": "light"
     },
     "output_type": "display_data"
    }
   ],
   "source": [
    "# Get model estimated volatility\n",
    "t_vol = t_result.conditional_volatility\n",
    "\n",
    "# Plot model fitting results\n",
    "plt.plot(t_vol, color = 'gold', label = 'Skewed-t Volatility')\n",
    "plt.plot(data['return'].dropna(), color = 'grey', \n",
    "         label = 'Daily Returns', alpha = 0.4)\n",
    "plt.legend(loc = 'upper right')\n",
    "plt.show()"
   ]
  },
  {
   "cell_type": "code",
   "execution_count": 31,
   "id": "ec4e328d",
   "metadata": {},
   "outputs": [
    {
     "data": {
      "image/png": "[encoded data removed]",
      "text/plain": [
       "<Figure size 432x288 with 1 Axes>"
      ]
     },
     "metadata": {
      "needs_background": "light"
     },
     "output_type": "display_data"
    }
   ],
   "source": [
    "# Get model estimated volatility\n",
    "skewt_vol = skewt_result.conditional_volatility\n",
    "\n",
    "# Plot model fitting results\n",
    "plt.plot(skewt_vol, color = 'gold', label = 'Skewed-t Volatility')\n",
    "plt.plot(data['return'].dropna(), color = 'grey', \n",
    "         label = 'Daily Returns', alpha = 0.4)\n",
    "plt.legend(loc = 'upper right')\n",
    "plt.show()"
   ]
  },
  {
   "cell_type": "code",
   "execution_count": null,
   "id": "dbccbd8c",
   "metadata": {},
   "outputs": [],
   "source": []
  }
 ],
 "metadata": {
  "kernelspec": {
   "display_name": "Python 3 (ipykernel)",
   "language": "python",
   "name": "python3"
  },
  "language_info": {
   "codemirror_mode": {
    "name": "ipython",
    "version": 3
   },
   "file_extension": ".py",
   "mimetype": "text/x-python",
   "name": "python",
   "nbconvert_exporter": "python",
   "pygments_lexer": "ipython3",
   "version": "3.9.12"
  }
 },
 "nbformat": 4,
 "nbformat_minor": 5
}
